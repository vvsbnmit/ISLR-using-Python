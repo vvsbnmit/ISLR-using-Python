{
 "cells": [
  {
   "cell_type": "markdown",
   "metadata": {},
   "source": [
    "\n",
    "\n",
    "Input Variable denoted by Xi\n",
    "\n",
    "Target Variable denoted by Y\n",
    "\n",
    "Y = f(X)+e  Where 'e' has a mean of zero.\n",
    "\n",
    "Statistical learning is a set of approaches for estimating 'f'\n",
    "\n",
    "Reasons for estimating f\n",
    "1. Prediction\n",
    "2. Inference\n",
    "\n",
    "The inaccuracy of a model is due to two factors:\n",
    "1. Reducible error : These type of error can be reduced by estimating our function 'f' as close as possible.\n",
    "2. Irreducible error: These type of error is due to 'e' from above equation and cannot be reduced.\n",
    "\n",
    "Estimation of function 'f' can be done using two ways:\n",
    "1. Parametric Methods - We make assumption about the shape of the function for e.g. Linear, Quadratic etc and estimates the coefficient using methods like OLS and other.\n",
    "\n",
    "2. Non-Parametric Methods - Do not make assumption about the functional form of 'f'. A very large number of observation is required to estimate 'f' and coefficient unlike Parametric estimates.\n",
    "\n",
    "Prediction Accuracy and Interpretability are inversely proportional to each other.\n",
    "\n",
    "Categories of Statistical Modelling\n",
    "\n",
    "1. Supervised Learning - Target varible is given which is of our interest and prediction.\n",
    "\n",
    "2. Unsupervised Learning - No Target variable is present. We want to understand the relationship between variables or observation.\n",
    "\n",
    "\n",
    "Regression - When target variable is quantitative\n",
    "Classification - When target variable is Qualitative(classes)\n",
    "\n",
    "Logistic regression is called regression although it is used in classification of two-class is because of the probability estimates it gives out for each class which are quantitative or continuous value in nature. \n",
    "\n",
    "Methods such as KNN and Boosting(Trees) can be use for both regression and classification problems.\n",
    "\n",
    "\n",
    "Accessing Model Accuracy - MSE (Mean Squared Error) for regression and Training error rate for Classification.\n",
    "\n",
    "Flexibility of Model(Flexibility of Curve) ~ Degree of Freedom\n",
    "\n",
    "Cross Validation is used to estimate Test MSE and to estimate the shape of 'f' and coefficient that doesn't overfit the data.\n",
    "\n",
    "Bias-Variance trade off: U-Shape curve of Test MSE.\n",
    "\n",
    "MSE of x0(test observation) consists of 3 fundamental quantities\n",
    "1. Var f'(x0)\n",
    "2. [Bias(f'(x0))]^2\n",
    "3. Var(e)  where f' is the estimated function which we fit using our Training Dataset.\n",
    "\n",
    "Variance - By what amount the f' will change if we estimate it using different training data sets.\n",
    "Bias - It arrises when we fit a simple model for complex model.\n",
    "\n",
    "Bayes Classifier produces the lowest possible test error rate called the Bayes error rate. Bayes error rate is analogous to irreducible error rate i.e. Var(e)\n",
    "\n",
    "\n",
    "As for regression degree of freedom defines the flexibility of the model in KNN the number of K defines the flexibility of the model when K=1 model has high variance hence low training error and high test error."
   ]
  },
  {
   "cell_type": "code",
   "execution_count": 90,
   "metadata": {},
   "outputs": [],
   "source": [
    "import numpy as np\n",
    "\n",
    "x = np.random.normal(0,0.1,100)\n",
    "y = np.random.normal(0,0.1,100)"
   ]
  },
  {
   "cell_type": "code",
   "execution_count": 91,
   "metadata": {},
   "outputs": [
    {
     "data": {
      "text/plain": [
       "<matplotlib.collections.PathCollection at 0x2217f5f2c18>"
      ]
     },
     "execution_count": 91,
     "metadata": {},
     "output_type": "execute_result"
    },
    {
     "data": {
      "image/png": "[encoded data removed]",
      "text/plain": [
       "<Figure size 432x288 with 1 Axes>"
      ]
     },
     "metadata": {
      "needs_background": "light"
     },
     "output_type": "display_data"
    }
   ],
   "source": [
    "%matplotlib inline\n",
    "import matplotlib.pyplot as plt\n",
    "plt.scatter(x,y)"
   ]
  },
  {
   "cell_type": "code",
   "execution_count": 92,
   "metadata": {},
   "outputs": [],
   "source": [
    "#Reding Auto file\n",
    "#We have mentioned that the first row to be treated as the header and the first column should be treated as index\n",
    "import pandas as pd\n",
    "\n",
    "Auto = pd.read_csv(r'C:\\Users\\Vikram\\Desktop\\ISLR\\Data\\Auto.csv',header='infer', index_col='Column1')"
   ]
  },
  {
   "cell_type": "code",
   "execution_count": 93,
   "metadata": {},
   "outputs": [
    {
     "data": {
      "text/plain": [
       "(392, 9)"
      ]
     },
     "execution_count": 93,
     "metadata": {},
     "output_type": "execute_result"
    }
   ],
   "source": [
    "# equivalent to dim(Auto) in R. However in R the answer will be (392,9).\n",
    "\n",
    "Auto.shape"
   ]
  },
  {
   "cell_type": "code",
   "execution_count": 94,
   "metadata": {},
   "outputs": [
    {
     "data": {
      "text/plain": [
       "['mpg',\n",
       " 'cylinders',\n",
       " 'displacement',\n",
       " 'horsepower',\n",
       " 'weight',\n",
       " 'acceleration',\n",
       " 'year',\n",
       " 'origin',\n",
       " 'name']"
      ]
     },
     "execution_count": 94,
     "metadata": {},
     "output_type": "execute_result"
    }
   ],
   "source": [
    "# Similar to names(Auto) in R\n",
    "\n",
    "list(Auto)"
   ]
  },
  {
   "cell_type": "code",
   "execution_count": 95,
   "metadata": {},
   "outputs": [
    {
     "data": {
      "text/plain": [
       "Text(0,0.5,'mpg')"
      ]
     },
     "execution_count": 95,
     "metadata": {},
     "output_type": "execute_result"
    },
    {
     "data": {
      "image/png": "[encoded data removed]",
      "text/plain": [
       "<Figure size 432x288 with 1 Axes>"
      ]
     },
     "metadata": {
      "needs_background": "light"
     },
     "output_type": "display_data"
    }
   ],
   "source": [
    "# Similar to plot(Auto$cylinders,Auto$mpg) in R\n",
    "\n",
    "plt.scatter(x = Auto.cylinders,y = Auto.mpg)\n",
    "plt.xlabel('Cylinders')\n",
    "plt.ylabel('mpg')"
   ]
  },
  {
   "cell_type": "code",
   "execution_count": 96,
   "metadata": {},
   "outputs": [
    {
     "data": {
      "text/plain": [
       "<matplotlib.axes._subplots.AxesSubplot at 0x2217f661e48>"
      ]
     },
     "execution_count": 96,
     "metadata": {},
     "output_type": "execute_result"
    },
    {
     "data": {
      "image/png": "[encoded data removed]",
      "text/plain": [
       "<Figure size 432x288 with 1 Axes>"
      ]
     },
     "metadata": {
      "needs_background": "light"
     },
     "output_type": "display_data"
    }
   ],
   "source": [
    "# Boxplot in R requires you to convert cylinder into categorical variable using as.fator(cylinder). Python's seaborn library auto\n",
    "#-matically takes care of it.\n",
    "\n",
    "import seaborn as sns\n",
    "sns.boxplot(x = Auto.cylinders,y = Auto.mpg)"
   ]
  },
  {
   "cell_type": "code",
   "execution_count": 97,
   "metadata": {},
   "outputs": [
    {
     "data": {
      "text/plain": [
       "(array([13., 78., 73., 58., 53., 48., 37., 22.,  4.,  6.]),\n",
       " array([ 9.  , 12.76, 16.52, 20.28, 24.04, 27.8 , 31.56, 35.32, 39.08,\n",
       "        42.84, 46.6 ]),\n",
       " <a list of 10 Patch objects>)"
      ]
     },
     "execution_count": 97,
     "metadata": {},
     "output_type": "execute_result"
    },
    {
     "data": {
      "image/png": "[encoded data removed]",
      "text/plain": [
       "<Figure size 432x288 with 1 Axes>"
      ]
     },
     "metadata": {
      "needs_background": "light"
     },
     "output_type": "display_data"
    }
   ],
   "source": [
    "# Equivalent to hist(Auto$mpg in R)\n",
    "plt.hist(Auto.mpg)"
   ]
  },
  {
   "cell_type": "code",
   "execution_count": null,
   "metadata": {},
   "outputs": [],
   "source": [
    "# Similar to pairs(~mpg+displacement+horsepower+weight+acceleration, Auto) in R\n",
    "\n",
    "sns.pairplot(Auto, \n",
    "             vars=['mpg','displacement','horsepower','weight','acceleration'])"
   ]
  },
  {
   "cell_type": "code",
   "execution_count": null,
   "metadata": {},
   "outputs": [],
   "source": [
    "# Equivalent to summary(Auto) in R\n",
    "\n",
    "Auto.describe()"
   ]
  },
  {
   "cell_type": "code",
   "execution_count": null,
   "metadata": {},
   "outputs": [],
   "source": [
    "# Equivalent to summary(Auto$mpg) in R\n",
    "\n",
    "Auto.mpg.describe()"
   ]
  }
 ],
 "metadata": {
  "kernelspec": {
   "display_name": "Python 3",
   "language": "python",
   "name": "python3"
  },
  "language_info": {
   "codemirror_mode": {
    "name": "ipython",
    "version": 3
   },
   "file_extension": ".py",
   "mimetype": "text/x-python",
   "name": "python",
   "nbconvert_exporter": "python",
   "pygments_lexer": "ipython3",
   "version": "3.7.0"
  }
 },
 "nbformat": 4,
 "nbformat_minor": 2
}
