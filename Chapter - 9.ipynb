{
 "cells": [
  {
   "cell_type": "markdown",
   "metadata": {},
   "source": [
    "# Support Vector Machines.\n",
    "\n",
    "\n",
    "### Maximal Margin Classifier(MMC).\n",
    "\n",
    "The MMC introduces the concept of hyperplane which separates the two classes. In a p-dimensional data we will have p-1 dimension hyperplane. We can assign the test observation based on the sign which we get after substituting the value in the hyperplane equation and based on the value i.e. >0 or <0 we assign the class.\n",
    "\n",
    "The MMC got its name because it tends to fit a line which has maximal minimum distance from the data points as if the data is perfectly seperated by a line then there can be possibly infinite straight line which we can draw therefore we use maximal minimum distance to come up with the line which separates the classes which adds to the confidence in the classification. The data points which are closest to the line using which we define our hyperplane are known as 'Support Vectors' and intersetingly the hyperplane is affected by only these points. \n",
    "\n",
    "### Support Vector Classifier(SVC).\n",
    "\n",
    "When two classes are not separable completely we introduce the concept of soft-margin to MMC and this generalization of MMC is known as Support Vector Classifier. We introduces 'slack variables' which is the number of observation that can be misclassified by the SVC.\n",
    "\n",
    "In SVC the data points which lie on the margin or on the wrong side of the margin are termed as 'Support Vectors'.\n",
    "\n",
    "### Support Vector Machines(SVM).\n",
    "\n",
    "Unlike the above two approaches SVM was developed to solved the problems where classes are not linearlly separated. When SVC is combined with non-linear kernel then the resulting classifier is known as Support Vector Machines.\n",
    "\n",
    "There are also radial kernel for SVM which are suitable for classes surrounded by different class.\n",
    "\n",
    "SVM are basically build for binary classes. Therefore to tackle multi-class problem two approaches are suggested which are as follows:\n",
    "\n",
    "1. One-Versus-One Classification\n",
    "2. One-Versus-All Classification\n",
    "\n",
    "In SVM the loss function used is 'Hinge Loss' and the penalty is similar to that of 'Lasso Regression'.\n",
    "\n",
    "We have Support Vector Regression for quantitative variables."
   ]
  },
  {
   "cell_type": "code",
   "execution_count": 1,
   "metadata": {},
   "outputs": [],
   "source": [
    "import numpy as np\n",
    "import pandas as pd\n",
    "%matplotlib inline\n",
    "import matplotlib.pyplot as plt"
   ]
  }
 ],
 "metadata": {
  "kernelspec": {
   "display_name": "Python 3",
   "language": "python",
   "name": "python3"
  },
  "language_info": {
   "codemirror_mode": {
    "name": "ipython",
    "version": 3
   },
   "file_extension": ".py",
   "mimetype": "text/x-python",
   "name": "python",
   "nbconvert_exporter": "python",
   "pygments_lexer": "ipython3",
   "version": "3.7.0"
  }
 },
 "nbformat": 4,
 "nbformat_minor": 2
}
