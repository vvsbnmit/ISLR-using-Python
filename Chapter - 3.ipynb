{
 "cells": [
  {
   "cell_type": "markdown",
   "metadata": {},
   "source": [
    "# Linear Regression\n",
    "\n",
    "Linear regression is used to predict quantitave response.\n",
    "\n",
    " Y = B0 + B1X\n",
    "\n",
    "Estimation of coefficient is done using least square.\n",
    "\n",
    "OLS - refers to procedure of fitting the line to the data.\n",
    "RSS - cost function which OLS uses to estimate the coefficient.\n",
    "\n",
    "## Assessing the accuracy of coefficient estimates.\n",
    "The coefficient we try to estimate should be close to the coefficient of the popultion from where our data in hand or the sample\n",
    "data is derived. We repeat the process of estimate many a time on different sample and average it which will give us estimates of our coefficient that is close to population coefficient and is unbiased i.e. there is no systematic under or over estimate.\n",
    "\n",
    "Standard Error (SE)[SD/n^0.5] - tells us how far the single estimate is from the population parameter.\n",
    "\n",
    "The estimate of sigma is known as residual standard error(RSE)\n",
    "RSE = [RSS/(n-2)]^0.5\n",
    "\n",
    "standard error are used to compute the confidence interval.\n",
    "\n",
    "The null hypothesis for coefficient \n",
    "\n",
    "H0 : There is no no relationship between X and Y.\n",
    "H1(alternate hypothesis) : There is some relationship between X and Y.\n",
    "\n",
    "Mathematically \n",
    "\n",
    "Ho : B1' = 0        [B1'is the estimated coefficient]\n",
    "H1 : B1' != 0\n",
    "\n",
    "We calculate SE(B1') to perform this hypothesis test.\n",
    "\n",
    "t = B1'-0/SE(B1')  [t-statistics]\n",
    "\n",
    "probability of observing any value equal to [t] is called p-value\n",
    "\n",
    "p-value -> It is unlikely to observe such an substantial association between predictor and response due to chance. Hence small p-value tells us about the presence of association between predictors and response variable.\n",
    "\n",
    "## Assessing the acuuracy of the model.\n",
    "\n",
    "Linear model's accuracy are decribed by two parameters.\n",
    "\n",
    "1. RSE -> measue of the lack of fit. \n",
    "2. R^2[0-1] -> proportion of variance explained. {1-RSS/TSS}  where TSS = [y-mean(y)]^0.5.\n",
    "R-square is the variability in Y that can be explained using X.\n",
    "\n",
    "### RSE is used to calculate confidence interval and p-value\n",
    "\n",
    "## Multiple Linear Regression.\n",
    "\n",
    "same steps for parameter estimates using RSS.\n",
    "The estimates for multiple regression are done using Matrix Algebra.\n",
    "\n",
    "For mutiple regression we calculate F-statistics similar to t-statistics for simple linear model to perform null hypothesis\n",
    "F [1,>1]= [(TSS-RSS)/p]/RSS/(n-p-1)  where p is the number of predictors and n is the number of observation\n",
    "\n",
    "Large F-statistics suggest that atleast one of the predictor is associated to response.\n",
    "\n",
    "F-statisics combined with p-value is used to decide the important predictors.\n",
    "\n",
    "For model accuracy we use the same metrices of R^2 and RSE.\n",
    "\n",
    "Prediction interval are wider than confidence interval because both the error in the estimates of 'f' and the irreducible error.\n",
    "\n",
    "\n",
    "## Extension of the Linear Model.\n",
    "\n",
    "To overcome the two restrictive assumption of linear model i.e. \n",
    "1. linear relation between x and y i.e. a change in y due to unit change in x is constant.\n",
    "2. additive effect - the effect of change in one predictor is independent of the values of other predictor.\n",
    "\n",
    "The additive assumption can be handled by introducing interaction term in our model.\n",
    "\n",
    "Sometimes the interaction term has a very small p-value but the associated variable do not. Therefore we should follow the hierarchical principle which states that we if we include the interaction term in our model we should also include the main effects even if their coefficient is not significant.\n",
    "\n",
    "## Potential problems associated with Linear Regression. \n",
    "\n",
    "1. Non Linearity of the response-predictor relationships. solution -> add polynomial terms.\n",
    "\n",
    "2. Correlation of error terms.-> i.e a +ve sign for e1 provides no info about sign of e2. (Generally occurs in Time Series model). solution -> the order of difference(substraction) to remove the correlation among observation in same variable. \n",
    "\n",
    "3. Non-constant variance of error terms. aka hetroscedasticity -> funnel shape in residual plot. solution -> Transform Y \n",
    "\n",
    "4. Outliers. plot 'studentized residual > 3' is an outlier.\n",
    "\n",
    "5. High-leverage points. refers to unusual value of X\n",
    "\n",
    "6. Collinearity. when two or more predicted variables are closely related to each other. -> reduces the accuracy of the estimateds of the regression coefficient. Multicollinearity is an advanced form of collinearity when more than 2 predictors are correlated but there is no evidence of correlation between pair of variables. To assess multicollinearity we calculate 'variance inflation factor'(VIF) which ranges from 1 to >>1 where 1 means complete absence of collinearity. In real life there will be some collinearity present in our data set therefore, as a rule of thumb VIF exceeding 5 or 10 signifies problematic amount of collinearity."
   ]
  },
  {
   "cell_type": "code",
   "execution_count": 141,
   "metadata": {},
   "outputs": [],
   "source": [
    "#importing libraries\n",
    "import pandas as pd\n",
    "from sklearn import linear_model\n",
    "from sklearn.metrics import mean_squared_error,r2_score"
   ]
  },
  {
   "cell_type": "code",
   "execution_count": 142,
   "metadata": {},
   "outputs": [],
   "source": [
    "#reading the Boston datasets\n",
    "Boston =  pd.read_csv(r'C:\\Users\\Vikram\\Desktop\\ISLR\\Data\\Boston.csv', header='infer', index_col='Unnamed: 0')"
   ]
  },
  {
   "cell_type": "code",
   "execution_count": 143,
   "metadata": {},
   "outputs": [
    {
     "data": {
      "text/plain": [
       "(506, 14)"
      ]
     },
     "execution_count": 143,
     "metadata": {},
     "output_type": "execute_result"
    }
   ],
   "source": [
    "Boston.shape"
   ]
  },
  {
   "cell_type": "code",
   "execution_count": 144,
   "metadata": {},
   "outputs": [],
   "source": [
    "#defined 'medv' as the 'response' and rest of the variable as predictor 'variables'\n",
    "Boston_y = Boston['medv']\n",
    "Boston_x = Boston.loc[:, Boston.columns != 'medv']\n",
    "# splitting the boston datasets in train and test set in the ratio of 80:20\n",
    "Boston_y_train = Boston_y[:-106]\n",
    "Boston_y_test = Boston_y[-106:]\n",
    "Boston_x_train = Boston_x[:-106]\n",
    "Boston_x_test = Boston_x[-106:]"
   ]
  },
  {
   "cell_type": "code",
   "execution_count": 150,
   "metadata": {},
   "outputs": [],
   "source": [
    "# import statsmodels api to output the stats which corresponds to one shown in R but the one provided by R is interpretable hands\n",
    "# down\n",
    "import statsmodels.api as sm\n",
    "from scipy import stats"
   ]
  },
  {
   "cell_type": "code",
   "execution_count": 151,
   "metadata": {},
   "outputs": [
    {
     "name": "stdout",
     "output_type": "stream",
     "text": [
      "                            OLS Regression Results                            \n",
      "==============================================================================\n",
      "Dep. Variable:                   medv   R-squared:                       0.790\n",
      "Model:                            OLS   Adj. R-squared:                  0.782\n",
      "Method:                 Least Squares   F-statistic:                     96.43\n",
      "Date:                Fri, 07 Dec 2018   Prob (F-statistic):          5.50e-120\n",
      "Time:                        18:06:39   Log-Likelihood:                -1140.9\n",
      "No. Observations:                 400   AIC:                             2314.\n",
      "Df Residuals:                     384   BIC:                             2378.\n",
      "Df Model:                          15                                         \n",
      "Covariance Type:            nonrobust                                         \n",
      "==============================================================================\n",
      "                 coef    std err          t      P>|t|      [0.025      0.975]\n",
      "------------------------------------------------------------------------------\n",
      "const         31.4017      5.877      5.343      0.000      19.847      42.956\n",
      "crim          -0.1955      0.048     -4.054      0.000      -0.290      -0.101\n",
      "zn             0.0390      0.013      2.979      0.003       0.013       0.065\n",
      "indus          0.0712      0.058      1.219      0.223      -0.044       0.186\n",
      "chas           1.7646      0.795      2.221      0.027       0.202       3.327\n",
      "nox          -12.1708      4.107     -2.964      0.003     -20.245      -4.096\n",
      "rm             3.9845      0.445      8.950      0.000       3.109       4.860\n",
      "age            0.0958      0.020      4.768      0.000       0.056       0.135\n",
      "dis           -1.0299      0.190     -5.413      0.000      -1.404      -0.656\n",
      "rad            0.3720      0.079      4.737      0.000       0.218       0.526\n",
      "tax           -0.0136      0.004     -3.441      0.001      -0.021      -0.006\n",
      "ptratio       -0.6083      0.127     -4.800      0.000      -0.857      -0.359\n",
      "black         -0.0029      0.006     -0.502      0.616      -0.014       0.009\n",
      "lstat         -1.4292      0.169     -8.459      0.000      -1.761      -1.097\n",
      "lstat*age     -0.0068      0.002     -4.027      0.000      -0.010      -0.004\n",
      "lstat^2        0.0431      0.004     10.157      0.000       0.035       0.051\n",
      "==============================================================================\n",
      "Omnibus:                       99.650   Durbin-Watson:                   1.262\n",
      "Prob(Omnibus):                  0.000   Jarque-Bera (JB):              679.894\n",
      "Skew:                           0.860   Prob(JB):                    2.31e-148\n",
      "Kurtosis:                       9.151   Cond. No.                     3.75e+04\n",
      "==============================================================================\n",
      "\n",
      "Warnings:\n",
      "[1] Standard Errors assume that the covariance matrix of the errors is correctly specified.\n",
      "[2] The condition number is large, 3.75e+04. This might indicate that there are\n",
      "strong multicollinearity or other numerical problems.\n"
     ]
    }
   ],
   "source": [
    "X2 = sm.add_constant(Boston_x_train)\n",
    "est = sm.OLS(Boston_y_train, X2)\n",
    "est2 = est.fit()\n",
    "print(est2.summary())"
   ]
  },
  {
   "cell_type": "code",
   "execution_count": 145,
   "metadata": {},
   "outputs": [],
   "source": [
    "# Calling the Linear Regression model from sklearn\n",
    "regr = linear_model.LinearRegression()"
   ]
  },
  {
   "cell_type": "code",
   "execution_count": 146,
   "metadata": {},
   "outputs": [
    {
     "data": {
      "text/plain": [
       "LinearRegression(copy_X=True, fit_intercept=True, n_jobs=1, normalize=False)"
      ]
     },
     "execution_count": 146,
     "metadata": {},
     "output_type": "execute_result"
    }
   ],
   "source": [
    "#fitting the linear regression. After fitting we can use regr.predict() to make prediction\n",
    "regr.fit(Boston_x_train, Boston_y_train)"
   ]
  },
  {
   "cell_type": "code",
   "execution_count": 147,
   "metadata": {},
   "outputs": [
    {
     "data": {
      "text/plain": [
       "array([-1.91246374e-01,  4.42289967e-02,  5.52207977e-02,  1.71631351e+00,\n",
       "       -1.49957220e+01,  4.88773025e+00,  2.60921031e-03, -1.29480799e+00,\n",
       "        4.84787214e-01, -1.54006673e-02, -8.08795026e-01, -1.29230427e-03,\n",
       "       -5.17953791e-01])"
      ]
     },
     "execution_count": 147,
     "metadata": {},
     "output_type": "execute_result"
    }
   ],
   "source": [
    "regr.coef_"
   ]
  },
  {
   "cell_type": "code",
   "execution_count": 148,
   "metadata": {},
   "outputs": [
    {
     "name": "stderr",
     "output_type": "stream",
     "text": [
      "C:\\Users\\Vikram\\Anaconda3\\lib\\site-packages\\ipykernel_launcher.py:3: SettingWithCopyWarning: \n",
      "A value is trying to be set on a copy of a slice from a DataFrame.\n",
      "Try using .loc[row_indexer,col_indexer] = value instead\n",
      "\n",
      "See the caveats in the documentation: http://pandas.pydata.org/pandas-docs/stable/indexing.html#indexing-view-versus-copy\n",
      "  This is separate from the ipykernel package so we can avoid doing imports until\n",
      "C:\\Users\\Vikram\\Anaconda3\\lib\\site-packages\\ipykernel_launcher.py:4: SettingWithCopyWarning: \n",
      "A value is trying to be set on a copy of a slice from a DataFrame.\n",
      "Try using .loc[row_indexer,col_indexer] = value instead\n",
      "\n",
      "See the caveats in the documentation: http://pandas.pydata.org/pandas-docs/stable/indexing.html#indexing-view-versus-copy\n",
      "  after removing the cwd from sys.path.\n"
     ]
    }
   ],
   "source": [
    "# creating an interaction term lstat*age from Boston data sets and a polynomial term to be included in our model.\n",
    "Boston_x_train_inter = Boston_x_train\n",
    "Boston_x_train_inter['lstat*age'] = Boston_x_train.lstat*Boston_x_train.age\n",
    "Boston_x_train_inter['lstat^2'] = Boston_x_train.lstat ** 2"
   ]
  },
  {
   "cell_type": "code",
   "execution_count": 149,
   "metadata": {},
   "outputs": [
    {
     "data": {
      "text/plain": [
       "array([-1.95470886e-01,  3.89984238e-02,  7.12115445e-02,  1.76460337e+00,\n",
       "       -1.21707755e+01,  3.98450477e+00,  9.57583793e-02, -1.02986840e+00,\n",
       "        3.72033194e-01, -1.36343394e-02, -6.08296452e-01, -2.92480943e-03,\n",
       "       -1.42917448e+00, -6.84931125e-03,  4.31384811e-02])"
      ]
     },
     "execution_count": 149,
     "metadata": {},
     "output_type": "execute_result"
    }
   ],
   "source": [
    "#linear regression with interaction term and polynomial term.\n",
    "regr1 = linear_model.LinearRegression()\n",
    "regr1.fit(Boston_x_train_inter, Boston_y_train)\n",
    "regr1.coef_"
   ]
  },
  {
   "cell_type": "code",
   "execution_count": 152,
   "metadata": {},
   "outputs": [
    {
     "data": {
      "text/plain": [
       "(array([ 30.19429528,  41.95648758,  64.69300316,   7.8264956 ,\n",
       "         40.33851545, 520.79196053,  33.37508875,   4.89383027,\n",
       "         15.51238946,  42.65989484,  93.12542915,   8.70172589,\n",
       "        384.58918607, 236.74757454, 198.64791062]),\n",
       " array([6.99015329e-08, 2.75723642e-10, 1.01377076e-14, 5.39862043e-03,\n",
       "        5.83796609e-10, 2.63443560e-74, 1.53430473e-08, 2.75200243e-02,\n",
       "        9.67714142e-05, 1.99203565e-10, 6.13344246e-20, 3.36684557e-03,\n",
       "        2.08149008e-60, 2.97303007e-42, 7.03426212e-37]))"
      ]
     },
     "execution_count": 152,
     "metadata": {},
     "output_type": "execute_result"
    }
   ],
   "source": [
    "# First list shows the F-statistics and second list shows the p-values\n",
    "import sklearn\n",
    "sklearn.feature_selection.f_regression(Boston_x_train,Boston_y_train, center=True)"
   ]
  },
  {
   "cell_type": "code",
   "execution_count": 153,
   "metadata": {},
   "outputs": [],
   "source": [
    "# Running my trained model on test set\n",
    "Boston_y_pred = regr.predict(Boston_x_test)"
   ]
  },
  {
   "cell_type": "code",
   "execution_count": 155,
   "metadata": {},
   "outputs": [
    {
     "name": "stdout",
     "output_type": "stream",
     "text": [
      "Mean squared error: 37.89\n",
      "Variance score: -0.34\n"
     ]
    }
   ],
   "source": [
    "# getting the MSE and variance R-squared. We can see that R-square is negative that's because our model is doing terrible.\n",
    "print(\"Mean squared error: %.2f\"\n",
    "      % mean_squared_error(Boston_y_test, Boston_y_pred))\n",
    "# Explained variance score: 1 is perfect prediction\n",
    "print('Variance score: %.2f' % r2_score(Boston_y_test, Boston_y_pred))"
   ]
  },
  {
   "cell_type": "code",
   "execution_count": 158,
   "metadata": {},
   "outputs": [
    {
     "name": "stderr",
     "output_type": "stream",
     "text": [
      "C:\\Users\\Vikram\\Anaconda3\\lib\\site-packages\\ipykernel_launcher.py:2: SettingWithCopyWarning: \n",
      "A value is trying to be set on a copy of a slice from a DataFrame.\n",
      "Try using .loc[row_indexer,col_indexer] = value instead\n",
      "\n",
      "See the caveats in the documentation: http://pandas.pydata.org/pandas-docs/stable/indexing.html#indexing-view-versus-copy\n",
      "  \n",
      "C:\\Users\\Vikram\\Anaconda3\\lib\\site-packages\\ipykernel_launcher.py:3: SettingWithCopyWarning: \n",
      "A value is trying to be set on a copy of a slice from a DataFrame.\n",
      "Try using .loc[row_indexer,col_indexer] = value instead\n",
      "\n",
      "See the caveats in the documentation: http://pandas.pydata.org/pandas-docs/stable/indexing.html#indexing-view-versus-copy\n",
      "  This is separate from the ipykernel package so we can avoid doing imports until\n"
     ]
    }
   ],
   "source": [
    "# adding interaction term in my test set so that we can run our fit model on our test data sets\n",
    "Boston_x_test_inter = Boston_x_test\n",
    "Boston_x_test_inter['lstat*age'] = Boston_x_test.lstat*Boston_x_test.age\n",
    "Boston_x_test_inter['lstat^2'] = Boston_x_test.lstat ** 2"
   ]
  },
  {
   "cell_type": "code",
   "execution_count": 160,
   "metadata": {},
   "outputs": [],
   "source": [
    "# Running my trained model on test set\n",
    "Boston_y_pred_intr = regr1.predict(Boston_x_test_inter)"
   ]
  },
  {
   "cell_type": "code",
   "execution_count": 162,
   "metadata": {},
   "outputs": [
    {
     "name": "stdout",
     "output_type": "stream",
     "text": [
      "Mean squared error: 24.22\n",
      "Variance score: 0.14\n"
     ]
    }
   ],
   "source": [
    "# getting the MSE and variance R-squared. The metrices are way better than the one fiven by data above.We can see that R-square\n",
    "# is not that great that's because we have unecessary variables in our model which are not significant and also we have not taken\n",
    "# care of collinearity. \n",
    "print(\"Mean squared error: %.2f\"\n",
    "      % mean_squared_error(Boston_y_test, Boston_y_pred_intr))\n",
    "# Explained variance score: 1 is perfect prediction\n",
    "print('Variance score: %.2f' % r2_score(Boston_y_test, Boston_y_pred_intr))"
   ]
  },
  {
   "cell_type": "code",
   "execution_count": 166,
   "metadata": {},
   "outputs": [
    {
     "data": {
      "image/png": "[encoded data removed]",
      "text/plain": [
       "<Figure size 576x396 with 2 Axes>"
      ]
     },
     "metadata": {},
     "output_type": "display_data"
    }
   ],
   "source": [
    "#Library which plots the residual.\n",
    "import yellowbrick\n",
    "from yellowbrick.regressor import ResidualsPlot\n",
    "\n",
    "visualizer = ResidualsPlot(regr)\n",
    "visualizer.fit(Boston_x_train, Boston_y_train)  # Fit the training data to the model\n",
    "visualizer.score(Boston_x_test, Boston_y_test)  # Evaluate the model on the test data\n",
    "visualizer.poof()                 # Draw/show/poof the data"
   ]
  },
  {
   "cell_type": "markdown",
   "metadata": {},
   "source": [
    "### The above is the step illustrates fitting Linear Regression. But as evident sklearn does not provide library to do statistical analysis as present in R. Therefore studying the impact of variables on response, test of linearity, correlation among error terms and shape of function can be done a lot easier in R.\n",
    "\n",
    "## R is statistician tool and is rightly so. "
   ]
  },
  {
   "cell_type": "code",
   "execution_count": null,
   "metadata": {},
   "outputs": [],
   "source": []
  }
 ],
 "metadata": {
  "kernelspec": {
   "display_name": "Python 3",
   "language": "python",
   "name": "python3"
  },
  "language_info": {
   "codemirror_mode": {
    "name": "ipython",
    "version": 3
   },
   "file_extension": ".py",
   "mimetype": "text/x-python",
   "name": "python",
   "nbconvert_exporter": "python",
   "pygments_lexer": "ipython3",
   "version": "3.7.0"
  }
 },
 "nbformat": 4,
 "nbformat_minor": 2
}
