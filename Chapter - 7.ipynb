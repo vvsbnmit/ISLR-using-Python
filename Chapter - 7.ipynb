{
 "cells": [
  {
   "cell_type": "markdown",
   "metadata": {},
   "source": [
    "# Moving Beyond Linearity.\n",
    "\n",
    "\n",
    "The assumption of Linear relationship between target variable and independent variables sometime effect the predictive power of Linear regression. Therefore various simple extension of Linear regression is used to overcome this problem.\n",
    "\n",
    "### Polynomial Regression.\n",
    "\n",
    "This is the most basic extension of Linear regression. In this we introduce the polynomial function generally of power from 2 to 4. \n",
    "\n",
    "### Step Function.\n",
    "\n",
    "In polynomial regression we impose the polynomial function globally. Therefore we use 'Step function' if we want to avoid this imposition. In this setting we divide our independent variable into 'k' regions and estimate 'k+1' coefficient using OLS.\n",
    "\n",
    "### Regression Splines.\n",
    "\n",
    "This is the extension of the above two described basis function.\n",
    "\n",
    "#### Piecewise Polynomials.\n",
    "\n",
    "In this setting we fit a lower degree polynomial over 'k' partition. The degree of polynomial will be same across different partition. The coefficent of independent variables changes in different partition and the point where the estimates changes is known as 'knots'.\n",
    "\n",
    "The Spline impose the constarints on the d piecewise polynomials to be continuous on knots with continuity over 'd-1' derivatives. The Splines suffer from higher variance at the knots and therefore an additional constraint of the function of being linear at the boundries are added. The Splines with these additional constraint is known as \"Natural d(power of term, for e.g. cubic,quadratic) Spline\".\n",
    "\n",
    "The knots are selected by stating the degree of freedom and letting the software pick the decision boundaries for us. This can also be done using cross-validation approach.\n",
    "\n",
    "### Smoothing Splines.\n",
    "\n",
    "The Smoothing Spline is a different approach of fitting the Spline using the \"Loss + Penalty\" format. The Smoothing Splines takes care of bias - variance trade off. The smoothing parameter 'Lambda' is selected by using the method of 'LOOCV' technique.\n",
    "\n",
    "### Local Regression.\n",
    "\n",
    "In this setting we define the span that is the nearest neighbor which are weighted i.e. points close to the point of interest carries more weight than the point farther from it. We then estimate the coefficeint. The span 's' works as a tuning parameter and the large value of 's' results into smoother lines. This type of model is suitable for recent data sets as we can implement the varying coefficient to the time dimension.\n",
    "\n",
    "\n",
    "### Generalized Additive Models (GAM)\n",
    "\n",
    "GAM extends a standard linear model by allowing non-linear functions of each variable while maintaining 'additivity'. GAM can be used for both regression and classification."
   ]
  },
  {
   "cell_type": "code",
   "execution_count": null,
   "metadata": {},
   "outputs": [],
   "source": []
  }
 ],
 "metadata": {
  "kernelspec": {
   "display_name": "Python 3",
   "language": "python",
   "name": "python3"
  },
  "language_info": {
   "codemirror_mode": {
    "name": "ipython",
    "version": 3
   },
   "file_extension": ".py",
   "mimetype": "text/x-python",
   "name": "python",
   "nbconvert_exporter": "python",
   "pygments_lexer": "ipython3",
   "version": "3.7.0"
  }
 },
 "nbformat": 4,
 "nbformat_minor": 2
}
