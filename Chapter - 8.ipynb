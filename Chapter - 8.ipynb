{
  "nbformat": 4,
  "nbformat_minor": 0,
  "metadata": {
    "colab": {
      "name": "Chapter - 8.ipynb",
      "version": "0.3.2",
      "provenance": []
    },
    "kernelspec": {
      "display_name": "Python 3",
      "language": "python",
      "name": "python3"
    }
  },
  "cells": [
    {
      "metadata": {
        "id": "FT1L59D2miX_",
        "colab_type": "text"
      },
      "cell_type": "markdown",
      "source": [
        "## Tree Based Methods\n",
        "\n",
        "Trees can be used for both regression(quantitative predictor) and classification(qualitative predictor) problems.\n",
        "\n",
        "In a tree the region are termed as terminal nodes or leaf whereas the points across which the splitting is done is known as internal node.\n",
        "\n",
        "#### Regression Tree\n",
        "The prediction of the regression tree is given by the mean value of the region where the given observation falls.\n",
        "\n",
        "Tree Pruning -> We do tree pruning so that it doesn't overfit our training data set. It is done as a function of alpha which is a reminiscent of the Lasso equation.\n",
        "\n",
        "The region for regression are divided such as that the RSS for the region is minimized for regression problem.\n",
        "\n",
        "#### Classification Tree\n",
        "For classificaton the prediction is done based on the most occuring class of the region where the given observation falls.\n",
        "\n",
        "As RSS in the regression for classification we use Gini Index and Cross Entropy which determines the split and size of the tree.\n",
        "These metrices gives the measure of the purity of terminal node.\n",
        "\n",
        "Sometimes split is done to improve the node purity even though the two class predicts the same output.\n",
        "\n",
        "\n",
        "Generally the Decision Trees doesn't do well when it comes to prediction accuracy when compared to other statistical algorithm. Therfore the below ensemble methods are used to improve the prediction accuracy of decisison trees.\n",
        "\n",
        "\n",
        "#### Bagging(a.k.a Bootstrap)\n",
        "\n",
        "In this method we build various trees by randomly selecting data from training data set and take an average of all the trees to come up with prediction on unseen data set(test data sets).\n",
        "\n",
        "The variable importance is decided based on the mean RSS and mean Gini Index effect a variable has across all trees.\n",
        "\n",
        "#### Random Forest\n",
        "\n",
        "It overcomes the limitation of bagging discussed above by decorrelating the trees. It only consider a handful of predictors each time and fit a tree on it. By doing so our trees in random forest are not influenced by significant variable and looks different unlike the case in bagging.\n",
        "\n",
        "#### Boosting\n",
        "\n",
        "In this method the tree is fit on the residuals from the previous trees. Unlike the above two approach it can overfit for the large value of B(# of trees). There is also parameter which decides the number of predictors to be used to build intermediate trees and in general it is 1 because of the high accuracy. The trees with depth of 1 is called as 'Stump'."
      ]
    },
    {
      "metadata": {
        "id": "BkWy261vmiYD",
        "colab_type": "code",
        "colab": {}
      },
      "cell_type": "code",
      "source": [
        "import numpy as np\n",
        "import pandas as pd\n",
        "import matplotlib.pyplot as plt"
      ],
      "execution_count": 0,
      "outputs": []
    },
    {
      "metadata": {
        "id": "H9ZnhbFUnLbs",
        "colab_type": "code",
        "outputId": "189e3504-ec03-42ef-dcf3-4f2d88544904",
        "colab": {
          "resources": {
            "http://localhost:8080/nbextensions/google.colab/files.js": {
              "data": "Ly8gQ29weXJpZ2h0IDIwMTcgR29vZ2xlIExMQwovLwovLyBMaWNlbnNlZCB1bmRlciB0aGUgQXBhY2hlIExpY2Vuc2UsIFZlcnNpb24gMi4wICh0aGUgIkxpY2Vuc2UiKTsKLy8geW91IG1heSBub3QgdXNlIHRoaXMgZmlsZSBleGNlcHQgaW4gY29tcGxpYW5jZSB3aXRoIHRoZSBMaWNlbnNlLgovLyBZb3UgbWF5IG9idGFpbiBhIGNvcHkgb2YgdGhlIExpY2Vuc2UgYXQKLy8KLy8gICAgICBodHRwOi8vd3d3LmFwYWNoZS5vcmcvbGljZW5zZXMvTElDRU5TRS0yLjAKLy8KLy8gVW5sZXNzIHJlcXVpcmVkIGJ5IGFwcGxpY2FibGUgbGF3IG9yIGFncmVlZCB0byBpbiB3cml0aW5nLCBzb2Z0d2FyZQovLyBkaXN0cmlidXRlZCB1bmRlciB0aGUgTGljZW5zZSBpcyBkaXN0cmlidXRlZCBvbiBhbiAiQVMgSVMiIEJBU0lTLAovLyBXSVRIT1VUIFdBUlJBTlRJRVMgT1IgQ09ORElUSU9OUyBPRiBBTlkgS0lORCwgZWl0aGVyIGV4cHJlc3Mgb3IgaW1wbGllZC4KLy8gU2VlIHRoZSBMaWNlbnNlIGZvciB0aGUgc3BlY2lmaWMgbGFuZ3VhZ2UgZ292ZXJuaW5nIHBlcm1pc3Npb25zIGFuZAovLyBsaW1pdGF0aW9ucyB1bmRlciB0aGUgTGljZW5zZS4KCi8qKgogKiBAZmlsZW92ZXJ2aWV3IEhlbHBlcnMgZm9yIGdvb2dsZS5jb2xhYiBQeXRob24gbW9kdWxlLgogKi8KKGZ1bmN0aW9uKHNjb3BlKSB7CmZ1bmN0aW9uIHNwYW4odGV4dCwgc3R5bGVBdHRyaWJ1dGVzID0ge30pIHsKICBjb25zdCBlbGVtZW50ID0gZG9jdW1lbnQuY3JlYXRlRWxlbWVudCgnc3BhbicpOwogIGVsZW1lbnQudGV4dENvbnRlbnQgPSB0ZXh0OwogIGZvciAoY29uc3Qga2V5IG9mIE9iamVjdC5rZXlzKHN0eWxlQXR0cmlidXRlcykpIHsKICAgIGVsZW1lbnQuc3R5bGVba2V5XSA9IHN0eWxlQXR0cmlidXRlc1trZXldOwogIH0KICByZXR1cm4gZWxlbWVudDsKfQoKLy8gTWF4IG51bWJlciBvZiBieXRlcyB3aGljaCB3aWxsIGJlIHVwbG9hZGVkIGF0IGEgdGltZS4KY29uc3QgTUFYX1BBWUxPQURfU0laRSA9IDEwMCAqIDEwMjQ7Ci8vIE1heCBhbW91bnQgb2YgdGltZSB0byBibG9jayB3YWl0aW5nIGZvciB0aGUgdXNlci4KY29uc3QgRklMRV9DSEFOR0VfVElNRU9VVF9NUyA9IDMwICogMTAwMDsKCmZ1bmN0aW9uIF91cGxvYWRGaWxlcyhpbnB1dElkLCBvdXRwdXRJZCkgewogIGNvbnN0IHN0ZXBzID0gdXBsb2FkRmlsZXNTdGVwKGlucHV0SWQsIG91dHB1dElkKTsKICBjb25zdCBvdXRwdXRFbGVtZW50ID0gZG9jdW1lbnQuZ2V0RWxlbWVudEJ5SWQob3V0cHV0SWQpOwogIC8vIENhY2hlIHN0ZXBzIG9uIHRoZSBvdXRwdXRFbGVtZW50IHRvIG1ha2UgaXQgYXZhaWxhYmxlIGZvciB0aGUgbmV4dCBjYWxsCiAgLy8gdG8gdXBsb2FkRmlsZXNDb250aW51ZSBmcm9tIFB5dGhvbi4KICBvdXRwdXRFbGVtZW50LnN0ZXBzID0gc3RlcHM7CgogIHJldHVybiBfdXBsb2FkRmlsZXNDb250aW51ZShvdXRwdXRJZCk7Cn0KCi8vIFRoaXMgaXMgcm91Z2hseSBhbiBhc3luYyBnZW5lcmF0b3IgKG5vdCBzdXBwb3J0ZWQgaW4gdGhlIGJyb3dzZXIgeWV0KSwKLy8gd2hlcmUgdGhlcmUgYXJlIG11bHRpcGxlIGFzeW5jaHJvbm91cyBzdGVwcyBhbmQgdGhlIFB5dGhvbiBzaWRlIGlzIGdvaW5nCi8vIHRvIHBvbGwgZm9yIGNvbXBsZXRpb24gb2YgZWFjaCBzdGVwLgovLyBUaGlzIHVzZXMgYSBQcm9taXNlIHRvIGJsb2NrIHRoZSBweXRob24gc2lkZSBvbiBjb21wbGV0aW9uIG9mIGVhY2ggc3RlcCwKLy8gdGhlbiBwYXNzZXMgdGhlIHJlc3VsdCBvZiB0aGUgcHJldmlvdXMgc3RlcCBhcyB0aGUgaW5wdXQgdG8gdGhlIG5leHQgc3RlcC4KZnVuY3Rpb24gX3VwbG9hZEZpbGVzQ29udGludWUob3V0cHV0SWQpIHsKICBjb25zdCBvdXRwdXRFbGVtZW50ID0gZG9jdW1lbnQuZ2V0RWxlbWVudEJ5SWQob3V0cHV0SWQpOwogIGNvbnN0IHN0ZXBzID0gb3V0cHV0RWxlbWVudC5zdGVwczsKCiAgY29uc3QgbmV4dCA9IHN0ZXBzLm5leHQob3V0cHV0RWxlbWVudC5sYXN0UHJvbWlzZVZhbHVlKTsKICByZXR1cm4gUHJvbWlzZS5yZXNvbHZlKG5leHQudmFsdWUucHJvbWlzZSkudGhlbigodmFsdWUpID0+IHsKICAgIC8vIENhY2hlIHRoZSBsYXN0IHByb21pc2UgdmFsdWUgdG8gbWFrZSBpdCBhdmFpbGFibGUgdG8gdGhlIG5leHQKICAgIC8vIHN0ZXAgb2YgdGhlIGdlbmVyYXRvci4KICAgIG91dHB1dEVsZW1lbnQubGFzdFByb21pc2VWYWx1ZSA9IHZhbHVlOwogICAgcmV0dXJuIG5leHQudmFsdWUucmVzcG9uc2U7CiAgfSk7Cn0KCi8qKgogKiBHZW5lcmF0b3IgZnVuY3Rpb24gd2hpY2ggaXMgY2FsbGVkIGJldHdlZW4gZWFjaCBhc3luYyBzdGVwIG9mIHRoZSB1cGxvYWQKICogcHJvY2Vzcy4KICogQHBhcmFtIHtzdHJpbmd9IGlucHV0SWQgRWxlbWVudCBJRCBvZiB0aGUgaW5wdXQgZmlsZSBwaWNrZXIgZWxlbWVudC4KICogQHBhcmFtIHtzdHJpbmd9IG91dHB1dElkIEVsZW1lbnQgSUQgb2YgdGhlIG91dHB1dCBkaXNwbGF5LgogKiBAcmV0dXJuIHshSXRlcmFibGU8IU9iamVjdD59IEl0ZXJhYmxlIG9mIG5leHQgc3RlcHMuCiAqLwpmdW5jdGlvbiogdXBsb2FkRmlsZXNTdGVwKGlucHV0SWQsIG91dHB1dElkKSB7CiAgY29uc3QgaW5wdXRFbGVtZW50ID0gZG9jdW1lbnQuZ2V0RWxlbWVudEJ5SWQoaW5wdXRJZCk7CiAgaW5wdXRFbGVtZW50LmRpc2FibGVkID0gZmFsc2U7CgogIGNvbnN0IG91dHB1dEVsZW1lbnQgPSBkb2N1bWVudC5nZXRFbGVtZW50QnlJZChvdXRwdXRJZCk7CiAgb3V0cHV0RWxlbWVudC5pbm5lckhUTUwgPSAnJzsKCiAgY29uc3QgcGlja2VkUHJvbWlzZSA9IG5ldyBQcm9taXNlKChyZXNvbHZlKSA9PiB7CiAgICBpbnB1dEVsZW1lbnQuYWRkRXZlbnRMaXN0ZW5lcignY2hhbmdlJywgKGUpID0+IHsKICAgICAgcmVzb2x2ZShlLnRhcmdldC5maWxlcyk7CiAgICB9KTsKICB9KTsKCiAgY29uc3QgY2FuY2VsID0gZG9jdW1lbnQuY3JlYXRlRWxlbWVudCgnYnV0dG9uJyk7CiAgaW5wdXRFbGVtZW50LnBhcmVudEVsZW1lbnQuYXBwZW5kQ2hpbGQoY2FuY2VsKTsKICBjYW5jZWwudGV4dENvbnRlbnQgPSAnQ2FuY2VsIHVwbG9hZCc7CiAgY29uc3QgY2FuY2VsUHJvbWlzZSA9IG5ldyBQcm9taXNlKChyZXNvbHZlKSA9PiB7CiAgICBjYW5jZWwub25jbGljayA9ICgpID0+IHsKICAgICAgcmVzb2x2ZShudWxsKTsKICAgIH07CiAgfSk7CgogIC8vIENhbmNlbCB1cGxvYWQgaWYgdXNlciBoYXNuJ3QgcGlja2VkIGFueXRoaW5nIGluIHRpbWVvdXQuCiAgY29uc3QgdGltZW91dFByb21pc2UgPSBuZXcgUHJvbWlzZSgocmVzb2x2ZSkgPT4gewogICAgc2V0VGltZW91dCgoKSA9PiB7CiAgICAgIHJlc29sdmUobnVsbCk7CiAgICB9LCBGSUxFX0NIQU5HRV9USU1FT1VUX01TKTsKICB9KTsKCiAgLy8gV2FpdCBmb3IgdGhlIHVzZXIgdG8gcGljayB0aGUgZmlsZXMuCiAgY29uc3QgZmlsZXMgPSB5aWVsZCB7CiAgICBwcm9taXNlOiBQcm9taXNlLnJhY2UoW3BpY2tlZFByb21pc2UsIHRpbWVvdXRQcm9taXNlLCBjYW5jZWxQcm9taXNlXSksCiAgICByZXNwb25zZTogewogICAgICBhY3Rpb246ICdzdGFydGluZycsCiAgICB9CiAgfTsKCiAgaWYgKCFmaWxlcykgewogICAgcmV0dXJuIHsKICAgICAgcmVzcG9uc2U6IHsKICAgICAgICBhY3Rpb246ICdjb21wbGV0ZScsCiAgICAgIH0KICAgIH07CiAgfQoKICBjYW5jZWwucmVtb3ZlKCk7CgogIC8vIERpc2FibGUgdGhlIGlucHV0IGVsZW1lbnQgc2luY2UgZnVydGhlciBwaWNrcyBhcmUgbm90IGFsbG93ZWQuCiAgaW5wdXRFbGVtZW50LmRpc2FibGVkID0gdHJ1ZTsKCiAgZm9yIChjb25zdCBmaWxlIG9mIGZpbGVzKSB7CiAgICBjb25zdCBsaSA9IGRvY3VtZW50LmNyZWF0ZUVsZW1lbnQoJ2xpJyk7CiAgICBsaS5hcHBlbmQoc3BhbihmaWxlLm5hbWUsIHtmb250V2VpZ2h0OiAnYm9sZCd9KSk7CiAgICBsaS5hcHBlbmQoc3BhbigKICAgICAgICBgKCR7ZmlsZS50eXBlIHx8ICduL2EnfSkgLSAke2ZpbGUuc2l6ZX0gYnl0ZXMsIGAgKwogICAgICAgIGBsYXN0IG1vZGlmaWVkOiAkewogICAgICAgICAgICBmaWxlLmxhc3RNb2RpZmllZERhdGUgPyBmaWxlLmxhc3RNb2RpZmllZERhdGUudG9Mb2NhbGVEYXRlU3RyaW5nKCkgOgogICAgICAgICAgICAgICAgICAgICAgICAgICAgICAgICAgICAnbi9hJ30gLSBgKSk7CiAgICBjb25zdCBwZXJjZW50ID0gc3BhbignMCUgZG9uZScpOwogICAgbGkuYXBwZW5kQ2hpbGQocGVyY2VudCk7CgogICAgb3V0cHV0RWxlbWVudC5hcHBlbmRDaGlsZChsaSk7CgogICAgY29uc3QgZmlsZURhdGFQcm9taXNlID0gbmV3IFByb21pc2UoKHJlc29sdmUpID0+IHsKICAgICAgY29uc3QgcmVhZGVyID0gbmV3IEZpbGVSZWFkZXIoKTsKICAgICAgcmVhZGVyLm9ubG9hZCA9IChlKSA9PiB7CiAgICAgICAgcmVzb2x2ZShlLnRhcmdldC5yZXN1bHQpOwogICAgICB9OwogICAgICByZWFkZXIucmVhZEFzQXJyYXlCdWZmZXIoZmlsZSk7CiAgICB9KTsKICAgIC8vIFdhaXQgZm9yIHRoZSBkYXRhIHRvIGJlIHJlYWR5LgogICAgbGV0IGZpbGVEYXRhID0geWllbGQgewogICAgICBwcm9taXNlOiBmaWxlRGF0YVByb21pc2UsCiAgICAgIHJlc3BvbnNlOiB7CiAgICAgICAgYWN0aW9uOiAnY29udGludWUnLAogICAgICB9CiAgICB9OwoKICAgIC8vIFVzZSBhIGNodW5rZWQgc2VuZGluZyB0byBhdm9pZCBtZXNzYWdlIHNpemUgbGltaXRzLiBTZWUgYi82MjExNTY2MC4KICAgIGxldCBwb3NpdGlvbiA9IDA7CiAgICB3aGlsZSAocG9zaXRpb24gPCBmaWxlRGF0YS5ieXRlTGVuZ3RoKSB7CiAgICAgIGNvbnN0IGxlbmd0aCA9IE1hdGgubWluKGZpbGVEYXRhLmJ5dGVMZW5ndGggLSBwb3NpdGlvbiwgTUFYX1BBWUxPQURfU0laRSk7CiAgICAgIGNvbnN0IGNodW5rID0gbmV3IFVpbnQ4QXJyYXkoZmlsZURhdGEsIHBvc2l0aW9uLCBsZW5ndGgpOwogICAgICBwb3NpdGlvbiArPSBsZW5ndGg7CgogICAgICBjb25zdCBiYXNlNjQgPSBidG9hKFN0cmluZy5mcm9tQ2hhckNvZGUuYXBwbHkobnVsbCwgY2h1bmspKTsKICAgICAgeWllbGQgewogICAgICAgIHJlc3BvbnNlOiB7CiAgICAgICAgICBhY3Rpb246ICdhcHBlbmQnLAogICAgICAgICAgZmlsZTogZmlsZS5uYW1lLAogICAgICAgICAgZGF0YTogYmFzZTY0LAogICAgICAgIH0sCiAgICAgIH07CiAgICAgIHBlcmNlbnQudGV4dENvbnRlbnQgPQogICAgICAgICAgYCR7TWF0aC5yb3VuZCgocG9zaXRpb24gLyBmaWxlRGF0YS5ieXRlTGVuZ3RoKSAqIDEwMCl9JSBkb25lYDsKICAgIH0KICB9CgogIC8vIEFsbCBkb25lLgogIHlpZWxkIHsKICAgIHJlc3BvbnNlOiB7CiAgICAgIGFjdGlvbjogJ2NvbXBsZXRlJywKICAgIH0KICB9Owp9CgpzY29wZS5nb29nbGUgPSBzY29wZS5nb29nbGUgfHwge307CnNjb3BlLmdvb2dsZS5jb2xhYiA9IHNjb3BlLmdvb2dsZS5jb2xhYiB8fCB7fTsKc2NvcGUuZ29vZ2xlLmNvbGFiLl9maWxlcyA9IHsKICBfdXBsb2FkRmlsZXMsCiAgX3VwbG9hZEZpbGVzQ29udGludWUsCn07Cn0pKHNlbGYpOwo=",
              "ok": true,
              "headers": [
                [
                  "content-type",
                  "application/javascript"
                ]
              ],
              "status": 200,
              "status_text": ""
            }
          },
          "base_uri": "https://localhost:8080/",
          "height": 110
        }
      },
      "cell_type": "code",
      "source": [
        "from google.colab import files\n",
        "files.upload()"
      ],
      "execution_count": 0,
      "outputs": [
        {
          "output_type": "display_data",
          "data": {
            "text/html": [
              "\n",
              "     <input type=\"file\" id=\"files-7695ea6a-ab7c-43c9-8e69-5ef50cacfcbd\" name=\"files[]\" multiple disabled />\n",
              "     <output id=\"result-7695ea6a-ab7c-43c9-8e69-5ef50cacfcbd\">\n",
              "      Upload widget is only available when the cell has been executed in the\n",
              "      current browser session. Please rerun this cell to enable.\n",
              "      </output>\n",
              "      <script src=\"/nbextensions/google.colab/files.js\"></script> "
            ],
            "text/plain": [
              "<IPython.core.display.HTML object>"
            ]
          },
          "metadata": {
            "tags": []
          }
        },
        {
          "output_type": "stream",
          "text": [
            "Saving Carseats.csv to Carseats.csv\n"
          ],
          "name": "stdout"
        },
        {
          "output_type": "execute_result",
          "data": {
            "text/plain": [
              "{'Carseats.csv': b'\\xef\\xbb\\xbfColumn1,Sales,CompPrice,Income,Advertising,Population,Price,ShelveLoc,Age,Education,Urban,US\\r\\n1,9.5,138,73,11,276,120,Bad,42,17,Yes,Yes\\r\\n2,11.22,111,48,16,260,83,Good,65,10,Yes,Yes\\r\\n3,10.06,113,35,10,269,80,Medium,59,12,Yes,Yes\\r\\n4,7.4,117,100,4,466,97,Medium,55,14,Yes,Yes\\r\\n5,4.15,141,64,3,340,128,Bad,38,13,Yes,No\\r\\n6,10.81,124,113,13,501,72,Bad,78,16,No,Yes\\r\\n7,6.63,115,105,0,45,108,Medium,71,15,Yes,No\\r\\n8,11.85,136,81,15,425,120,Good,67,10,Yes,Yes\\r\\n9,6.54,132,110,0,108,124,Medium,76,10,No,No\\r\\n10,4.69,132,113,0,131,124,Medium,76,17,No,Yes\\r\\n11,9.01,121,78,9,150,100,Bad,26,10,No,Yes\\r\\n12,11.96,117,94,4,503,94,Good,50,13,Yes,Yes\\r\\n13,3.98,122,35,2,393,136,Medium,62,18,Yes,No\\r\\n14,10.96,115,28,11,29,86,Good,53,18,Yes,Yes\\r\\n15,11.17,107,117,11,148,118,Good,52,18,Yes,Yes\\r\\n16,8.71,149,95,5,400,144,Medium,76,18,No,No\\r\\n17,7.58,118,32,0,284,110,Good,63,13,Yes,No\\r\\n18,12.29,147,74,13,251,131,Good,52,10,Yes,Yes\\r\\n19,13.91,110,110,0,408,68,Good,46,17,No,Yes\\r\\n20,8.73,129,76,16,58,121,Medium,69,12,Yes,Yes\\r\\n21,6.41,125,90,2,367,131,Medium,35,18,Yes,Yes\\r\\n22,12.13,134,29,12,239,109,Good,62,18,No,Yes\\r\\n23,5.08,128,46,6,497,138,Medium,42,13,Yes,No\\r\\n24,5.87,121,31,0,292,109,Medium,79,10,Yes,No\\r\\n25,10.14,145,119,16,294,113,Bad,42,12,Yes,Yes\\r\\n26,14.9,139,32,0,176,82,Good,54,11,No,No\\r\\n27,8.33,107,115,11,496,131,Good,50,11,No,Yes\\r\\n28,5.27,98,118,0,19,107,Medium,64,17,Yes,No\\r\\n29,2.99,103,74,0,359,97,Bad,55,11,Yes,Yes\\r\\n30,7.81,104,99,15,226,102,Bad,58,17,Yes,Yes\\r\\n31,13.55,125,94,0,447,89,Good,30,12,Yes,No\\r\\n32,8.25,136,58,16,241,131,Medium,44,18,Yes,Yes\\r\\n33,6.2,107,32,12,236,137,Good,64,10,No,Yes\\r\\n34,8.77,114,38,13,317,128,Good,50,16,Yes,Yes\\r\\n35,2.67,115,54,0,406,128,Medium,42,17,Yes,Yes\\r\\n36,11.07,131,84,11,29,96,Medium,44,17,No,Yes\\r\\n37,8.89,122,76,0,270,100,Good,60,18,No,No\\r\\n38,4.95,121,41,5,412,110,Medium,54,10,Yes,Yes\\r\\n39,6.59,109,73,0,454,102,Medium,65,15,Yes,No\\r\\n40,3.24,130,60,0,144,138,Bad,38,10,No,No\\r\\n41,2.07,119,98,0,18,126,Bad,73,17,No,No\\r\\n42,7.96,157,53,0,403,124,Bad,58,16,Yes,No\\r\\n43,10.43,77,69,0,25,24,Medium,50,18,Yes,No\\r\\n44,4.12,123,42,11,16,134,Medium,59,13,Yes,Yes\\r\\n45,4.16,85,79,6,325,95,Medium,69,13,Yes,Yes\\r\\n46,4.56,141,63,0,168,135,Bad,44,12,Yes,Yes\\r\\n47,12.44,127,90,14,16,70,Medium,48,15,No,Yes\\r\\n48,4.38,126,98,0,173,108,Bad,55,16,Yes,No\\r\\n49,3.91,116,52,0,349,98,Bad,69,18,Yes,No\\r\\n50,10.61,157,93,0,51,149,Good,32,17,Yes,No\\r\\n51,1.42,99,32,18,341,108,Bad,80,16,Yes,Yes\\r\\n52,4.42,121,90,0,150,108,Bad,75,16,Yes,No\\r\\n53,7.91,153,40,3,112,129,Bad,39,18,Yes,Yes\\r\\n54,6.92,109,64,13,39,119,Medium,61,17,Yes,Yes\\r\\n55,4.9,134,103,13,25,144,Medium,76,17,No,Yes\\r\\n56,6.85,143,81,5,60,154,Medium,61,18,Yes,Yes\\r\\n57,11.91,133,82,0,54,84,Medium,50,17,Yes,No\\r\\n58,0.91,93,91,0,22,117,Bad,75,11,Yes,No\\r\\n59,5.42,103,93,15,188,103,Bad,74,16,Yes,Yes\\r\\n60,5.21,118,71,4,148,114,Medium,80,13,Yes,No\\r\\n61,8.32,122,102,19,469,123,Bad,29,13,Yes,Yes\\r\\n62,7.32,105,32,0,358,107,Medium,26,13,No,No\\r\\n63,1.82,139,45,0,146,133,Bad,77,17,Yes,Yes\\r\\n64,8.47,119,88,10,170,101,Medium,61,13,Yes,Yes\\r\\n65,7.8,100,67,12,184,104,Medium,32,16,No,Yes\\r\\n66,4.9,122,26,0,197,128,Medium,55,13,No,No\\r\\n67,8.85,127,92,0,508,91,Medium,56,18,Yes,No\\r\\n68,9.01,126,61,14,152,115,Medium,47,16,Yes,Yes\\r\\n69,13.39,149,69,20,366,134,Good,60,13,Yes,Yes\\r\\n70,7.99,127,59,0,339,99,Medium,65,12,Yes,No\\r\\n71,9.46,89,81,15,237,99,Good,74,12,Yes,Yes\\r\\n72,6.5,148,51,16,148,150,Medium,58,17,No,Yes\\r\\n73,5.52,115,45,0,432,116,Medium,25,15,Yes,No\\r\\n74,12.61,118,90,10,54,104,Good,31,11,No,Yes\\r\\n75,6.2,150,68,5,125,136,Medium,64,13,No,Yes\\r\\n76,8.55,88,111,23,480,92,Bad,36,16,No,Yes\\r\\n77,10.64,102,87,10,346,70,Medium,64,15,Yes,Yes\\r\\n78,7.7,118,71,12,44,89,Medium,67,18,No,Yes\\r\\n79,4.43,134,48,1,139,145,Medium,65,12,Yes,Yes\\r\\n80,9.14,134,67,0,286,90,Bad,41,13,Yes,No\\r\\n81,8.01,113,100,16,353,79,Bad,68,11,Yes,Yes\\r\\n82,7.52,116,72,0,237,128,Good,70,13,Yes,No\\r\\n83,11.62,151,83,4,325,139,Good,28,17,Yes,Yes\\r\\n84,4.42,109,36,7,468,94,Bad,56,11,Yes,Yes\\r\\n85,2.23,111,25,0,52,121,Bad,43,18,No,No\\r\\n86,8.47,125,103,0,304,112,Medium,49,13,No,No\\r\\n87,8.7,150,84,9,432,134,Medium,64,15,Yes,No\\r\\n88,11.7,131,67,7,272,126,Good,54,16,No,Yes\\r\\n89,6.56,117,42,7,144,111,Medium,62,10,Yes,Yes\\r\\n90,7.95,128,66,3,493,119,Medium,45,16,No,No\\r\\n91,5.33,115,22,0,491,103,Medium,64,11,No,No\\r\\n92,4.81,97,46,11,267,107,Medium,80,15,Yes,Yes\\r\\n93,4.53,114,113,0,97,125,Medium,29,12,Yes,No\\r\\n94,8.86,145,30,0,67,104,Medium,55,17,Yes,No\\r\\n95,8.39,115,97,5,134,84,Bad,55,11,Yes,Yes\\r\\n96,5.58,134,25,10,237,148,Medium,59,13,Yes,Yes\\r\\n97,9.48,147,42,10,407,132,Good,73,16,No,Yes\\r\\n98,7.45,161,82,5,287,129,Bad,33,16,Yes,Yes\\r\\n99,12.49,122,77,24,382,127,Good,36,16,No,Yes\\r\\n100,4.88,121,47,3,220,107,Bad,56,16,No,Yes\\r\\n101,4.11,113,69,11,94,106,Medium,76,12,No,Yes\\r\\n102,6.2,128,93,0,89,118,Medium,34,18,Yes,No\\r\\n103,5.3,113,22,0,57,97,Medium,65,16,No,No\\r\\n104,5.07,123,91,0,334,96,Bad,78,17,Yes,Yes\\r\\n105,4.62,121,96,0,472,138,Medium,51,12,Yes,No\\r\\n106,5.55,104,100,8,398,97,Medium,61,11,Yes,Yes\\r\\n107,0.16,102,33,0,217,139,Medium,70,18,No,No\\r\\n108,8.55,134,107,0,104,108,Medium,60,12,Yes,No\\r\\n109,3.47,107,79,2,488,103,Bad,65,16,Yes,No\\r\\n110,8.98,115,65,0,217,90,Medium,60,17,No,No\\r\\n111,9,128,62,7,125,116,Medium,43,14,Yes,Yes\\r\\n112,6.62,132,118,12,272,151,Medium,43,14,Yes,Yes\\r\\n113,6.67,116,99,5,298,125,Good,62,12,Yes,Yes\\r\\n114,6.01,131,29,11,335,127,Bad,33,12,Yes,Yes\\r\\n115,9.31,122,87,9,17,106,Medium,65,13,Yes,Yes\\r\\n116,8.54,139,35,0,95,129,Medium,42,13,Yes,No\\r\\n117,5.08,135,75,0,202,128,Medium,80,10,No,No\\r\\n118,8.8,145,53,0,507,119,Medium,41,12,Yes,No\\r\\n119,7.57,112,88,2,243,99,Medium,62,11,Yes,Yes\\r\\n120,7.37,130,94,8,137,128,Medium,64,12,Yes,Yes\\r\\n121,6.87,128,105,11,249,131,Medium,63,13,Yes,Yes\\r\\n122,11.67,125,89,10,380,87,Bad,28,10,Yes,Yes\\r\\n123,6.88,119,100,5,45,108,Medium,75,10,Yes,Yes\\r\\n124,8.19,127,103,0,125,155,Good,29,15,No,Yes\\r\\n125,8.87,131,113,0,181,120,Good,63,14,Yes,No\\r\\n126,9.34,89,78,0,181,49,Medium,43,15,No,No\\r\\n127,11.27,153,68,2,60,133,Good,59,16,Yes,Yes\\r\\n128,6.52,125,48,3,192,116,Medium,51,14,Yes,Yes\\r\\n129,4.96,133,100,3,350,126,Bad,55,13,Yes,Yes\\r\\n130,4.47,143,120,7,279,147,Bad,40,10,No,Yes\\r\\n131,8.41,94,84,13,497,77,Medium,51,12,Yes,Yes\\r\\n132,6.5,108,69,3,208,94,Medium,77,16,Yes,No\\r\\n133,9.54,125,87,9,232,136,Good,72,10,Yes,Yes\\r\\n134,7.62,132,98,2,265,97,Bad,62,12,Yes,Yes\\r\\n135,3.67,132,31,0,327,131,Medium,76,16,Yes,No\\r\\n136,6.44,96,94,14,384,120,Medium,36,18,No,Yes\\r\\n137,5.17,131,75,0,10,120,Bad,31,18,No,No\\r\\n138,6.52,128,42,0,436,118,Medium,80,11,Yes,No\\r\\n139,10.27,125,103,12,371,109,Medium,44,10,Yes,Yes\\r\\n140,12.3,146,62,10,310,94,Medium,30,13,No,Yes\\r\\n141,6.03,133,60,10,277,129,Medium,45,18,Yes,Yes\\r\\n142,6.53,140,42,0,331,131,Bad,28,15,Yes,No\\r\\n143,7.44,124,84,0,300,104,Medium,77,15,Yes,No\\r\\n144,0.53,122,88,7,36,159,Bad,28,17,Yes,Yes\\r\\n145,9.09,132,68,0,264,123,Good,34,11,No,No\\r\\n146,8.77,144,63,11,27,117,Medium,47,17,Yes,Yes\\r\\n147,3.9,114,83,0,412,131,Bad,39,14,Yes,No\\r\\n148,10.51,140,54,9,402,119,Good,41,16,No,Yes\\r\\n149,7.56,110,119,0,384,97,Medium,72,14,No,Yes\\r\\n150,11.48,121,120,13,140,87,Medium,56,11,Yes,Yes\\r\\n151,10.49,122,84,8,176,114,Good,57,10,No,Yes\\r\\n152,10.77,111,58,17,407,103,Good,75,17,No,Yes\\r\\n153,7.64,128,78,0,341,128,Good,45,13,No,No\\r\\n154,5.93,150,36,7,488,150,Medium,25,17,No,Yes\\r\\n155,6.89,129,69,10,289,110,Medium,50,16,No,Yes\\r\\n156,7.71,98,72,0,59,69,Medium,65,16,Yes,No\\r\\n157,7.49,146,34,0,220,157,Good,51,16,Yes,No\\r\\n158,10.21,121,58,8,249,90,Medium,48,13,No,Yes\\r\\n159,12.53,142,90,1,189,112,Good,39,10,No,Yes\\r\\n160,9.32,119,60,0,372,70,Bad,30,18,No,No\\r\\n161,4.67,111,28,0,486,111,Medium,29,12,No,No\\r\\n162,2.93,143,21,5,81,160,Medium,67,12,No,Yes\\r\\n163,3.63,122,74,0,424,149,Medium,51,13,Yes,No\\r\\n164,5.68,130,64,0,40,106,Bad,39,17,No,No\\r\\n165,8.22,148,64,0,58,141,Medium,27,13,No,Yes\\r\\n166,0.37,147,58,7,100,191,Bad,27,15,Yes,Yes\\r\\n167,6.71,119,67,17,151,137,Medium,55,11,Yes,Yes\\r\\n168,6.71,106,73,0,216,93,Medium,60,13,Yes,No\\r\\n169,7.3,129,89,0,425,117,Medium,45,10,Yes,No\\r\\n170,11.48,104,41,15,492,77,Good,73,18,Yes,Yes\\r\\n171,8.01,128,39,12,356,118,Medium,71,10,Yes,Yes\\r\\n172,12.49,93,106,12,416,55,Medium,75,15,Yes,Yes\\r\\n173,9.03,104,102,13,123,110,Good,35,16,Yes,Yes\\r\\n174,6.38,135,91,5,207,128,Medium,66,18,Yes,Yes\\r\\n175,0,139,24,0,358,185,Medium,79,15,No,No\\r\\n176,7.54,115,89,0,38,122,Medium,25,12,Yes,No\\r\\n177,5.61,138,107,9,480,154,Medium,47,11,No,Yes\\r\\n178,10.48,138,72,0,148,94,Medium,27,17,Yes,Yes\\r\\n179,10.66,104,71,14,89,81,Medium,25,14,No,Yes\\r\\n180,7.78,144,25,3,70,116,Medium,77,18,Yes,Yes\\r\\n181,4.94,137,112,15,434,149,Bad,66,13,Yes,Yes\\r\\n182,7.43,121,83,0,79,91,Medium,68,11,Yes,No\\r\\n183,4.74,137,60,4,230,140,Bad,25,13,Yes,No\\r\\n184,5.32,118,74,6,426,102,Medium,80,18,Yes,Yes\\r\\n185,9.95,132,33,7,35,97,Medium,60,11,No,Yes\\r\\n186,10.07,130,100,11,449,107,Medium,64,10,Yes,Yes\\r\\n187,8.68,120,51,0,93,86,Medium,46,17,No,No\\r\\n188,6.03,117,32,0,142,96,Bad,62,17,Yes,No\\r\\n189,8.07,116,37,0,426,90,Medium,76,15,Yes,No\\r\\n190,12.11,118,117,18,509,104,Medium,26,15,No,Yes\\r\\n191,8.79,130,37,13,297,101,Medium,37,13,No,Yes\\r\\n192,6.67,156,42,13,170,173,Good,74,14,Yes,Yes\\r\\n193,7.56,108,26,0,408,93,Medium,56,14,No,No\\r\\n194,13.28,139,70,7,71,96,Good,61,10,Yes,Yes\\r\\n195,7.23,112,98,18,481,128,Medium,45,11,Yes,Yes\\r\\n196,4.19,117,93,4,420,112,Bad,66,11,Yes,Yes\\r\\n197,4.1,130,28,6,410,133,Bad,72,16,Yes,Yes\\r\\n198,2.52,124,61,0,333,138,Medium,76,16,Yes,No\\r\\n199,3.62,112,80,5,500,128,Medium,69,10,Yes,Yes\\r\\n200,6.42,122,88,5,335,126,Medium,64,14,Yes,Yes\\r\\n201,5.56,144,92,0,349,146,Medium,62,12,No,No\\r\\n202,5.94,138,83,0,139,134,Medium,54,18,Yes,No\\r\\n203,4.1,121,78,4,413,130,Bad,46,10,No,Yes\\r\\n204,2.05,131,82,0,132,157,Bad,25,14,Yes,No\\r\\n205,8.74,155,80,0,237,124,Medium,37,14,Yes,No\\r\\n206,5.68,113,22,1,317,132,Medium,28,12,Yes,No\\r\\n207,4.97,162,67,0,27,160,Medium,77,17,Yes,Yes\\r\\n208,8.19,111,105,0,466,97,Bad,61,10,No,No\\r\\n209,7.78,86,54,0,497,64,Bad,33,12,Yes,No\\r\\n210,3.02,98,21,11,326,90,Bad,76,11,No,Yes\\r\\n211,4.36,125,41,2,357,123,Bad,47,14,No,Yes\\r\\n212,9.39,117,118,14,445,120,Medium,32,15,Yes,Yes\\r\\n213,12.04,145,69,19,501,105,Medium,45,11,Yes,Yes\\r\\n214,8.23,149,84,5,220,139,Medium,33,10,Yes,Yes\\r\\n215,4.83,115,115,3,48,107,Medium,73,18,Yes,Yes\\r\\n216,2.34,116,83,15,170,144,Bad,71,11,Yes,Yes\\r\\n217,5.73,141,33,0,243,144,Medium,34,17,Yes,No\\r\\n218,4.34,106,44,0,481,111,Medium,70,14,No,No\\r\\n219,9.7,138,61,12,156,120,Medium,25,14,Yes,Yes\\r\\n220,10.62,116,79,19,359,116,Good,58,17,Yes,Yes\\r\\n221,10.59,131,120,15,262,124,Medium,30,10,Yes,Yes\\r\\n222,6.43,124,44,0,125,107,Medium,80,11,Yes,No\\r\\n223,7.49,136,119,6,178,145,Medium,35,13,Yes,Yes\\r\\n224,3.45,110,45,9,276,125,Medium,62,14,Yes,Yes\\r\\n225,4.1,134,82,0,464,141,Medium,48,13,No,No\\r\\n226,6.68,107,25,0,412,82,Bad,36,14,Yes,No\\r\\n227,7.8,119,33,0,245,122,Good,56,14,Yes,No\\r\\n228,8.69,113,64,10,68,101,Medium,57,16,Yes,Yes\\r\\n229,5.4,149,73,13,381,163,Bad,26,11,No,Yes\\r\\n230,11.19,98,104,0,404,72,Medium,27,18,No,No\\r\\n231,5.16,115,60,0,119,114,Bad,38,14,No,No\\r\\n232,8.09,132,69,0,123,122,Medium,27,11,No,No\\r\\n233,13.14,137,80,10,24,105,Good,61,15,Yes,Yes\\r\\n234,8.65,123,76,18,218,120,Medium,29,14,No,Yes\\r\\n235,9.43,115,62,11,289,129,Good,56,16,No,Yes\\r\\n236,5.53,126,32,8,95,132,Medium,50,17,Yes,Yes\\r\\n237,9.32,141,34,16,361,108,Medium,69,10,Yes,Yes\\r\\n238,9.62,151,28,8,499,135,Medium,48,10,Yes,Yes\\r\\n239,7.36,121,24,0,200,133,Good,73,13,Yes,No\\r\\n240,3.89,123,105,0,149,118,Bad,62,16,Yes,Yes\\r\\n241,10.31,159,80,0,362,121,Medium,26,18,Yes,No\\r\\n242,12.01,136,63,0,160,94,Medium,38,12,Yes,No\\r\\n243,4.68,124,46,0,199,135,Medium,52,14,No,No\\r\\n244,7.82,124,25,13,87,110,Medium,57,10,Yes,Yes\\r\\n245,8.78,130,30,0,391,100,Medium,26,18,Yes,No\\r\\n246,10,114,43,0,199,88,Good,57,10,No,Yes\\r\\n247,6.9,120,56,20,266,90,Bad,78,18,Yes,Yes\\r\\n248,5.04,123,114,0,298,151,Bad,34,16,Yes,No\\r\\n249,5.36,111,52,0,12,101,Medium,61,11,Yes,Yes\\r\\n250,5.05,125,67,0,86,117,Bad,65,11,Yes,No\\r\\n251,9.16,137,105,10,435,156,Good,72,14,Yes,Yes\\r\\n252,3.72,139,111,5,310,132,Bad,62,13,Yes,Yes\\r\\n253,8.31,133,97,0,70,117,Medium,32,16,Yes,No\\r\\n254,5.64,124,24,5,288,122,Medium,57,12,No,Yes\\r\\n255,9.58,108,104,23,353,129,Good,37,17,Yes,Yes\\r\\n256,7.71,123,81,8,198,81,Bad,80,15,Yes,Yes\\r\\n257,4.2,147,40,0,277,144,Medium,73,10,Yes,No\\r\\n258,8.67,125,62,14,477,112,Medium,80,13,Yes,Yes\\r\\n259,3.47,108,38,0,251,81,Bad,72,14,No,No\\r\\n260,5.12,123,36,10,467,100,Bad,74,11,No,Yes\\r\\n261,7.67,129,117,8,400,101,Bad,36,10,Yes,Yes\\r\\n262,5.71,121,42,4,188,118,Medium,54,15,Yes,Yes\\r\\n263,6.37,120,77,15,86,132,Medium,48,18,Yes,Yes\\r\\n264,7.77,116,26,6,434,115,Medium,25,17,Yes,Yes\\r\\n265,6.95,128,29,5,324,159,Good,31,15,Yes,Yes\\r\\n266,5.31,130,35,10,402,129,Bad,39,17,Yes,Yes\\r\\n267,9.1,128,93,12,343,112,Good,73,17,No,Yes\\r\\n268,5.83,134,82,7,473,112,Bad,51,12,No,Yes\\r\\n269,6.53,123,57,0,66,105,Medium,39,11,Yes,No\\r\\n270,5.01,159,69,0,438,166,Medium,46,17,Yes,No\\r\\n271,11.99,119,26,0,284,89,Good,26,10,Yes,No\\r\\n272,4.55,111,56,0,504,110,Medium,62,16,Yes,No\\r\\n273,12.98,113,33,0,14,63,Good,38,12,Yes,No\\r\\n274,10.04,116,106,8,244,86,Medium,58,12,Yes,Yes\\r\\n275,7.22,135,93,2,67,119,Medium,34,11,Yes,Yes\\r\\n276,6.67,107,119,11,210,132,Medium,53,11,Yes,Yes\\r\\n277,6.93,135,69,14,296,130,Medium,73,15,Yes,Yes\\r\\n278,7.8,136,48,12,326,125,Medium,36,16,Yes,Yes\\r\\n279,7.22,114,113,2,129,151,Good,40,15,No,Yes\\r\\n280,3.42,141,57,13,376,158,Medium,64,18,Yes,Yes\\r\\n281,2.86,121,86,10,496,145,Bad,51,10,Yes,Yes\\r\\n282,11.19,122,69,7,303,105,Good,45,16,No,Yes\\r\\n283,7.74,150,96,0,80,154,Good,61,11,Yes,No\\r\\n284,5.36,135,110,0,112,117,Medium,80,16,No,No\\r\\n285,6.97,106,46,11,414,96,Bad,79,17,No,No\\r\\n286,7.6,146,26,11,261,131,Medium,39,10,Yes,Yes\\r\\n287,7.53,117,118,11,429,113,Medium,67,18,No,Yes\\r\\n288,6.88,95,44,4,208,72,Bad,44,17,Yes,Yes\\r\\n289,6.98,116,40,0,74,97,Medium,76,15,No,No\\r\\n290,8.75,143,77,25,448,156,Medium,43,17,Yes,Yes\\r\\n291,9.49,107,111,14,400,103,Medium,41,11,No,Yes\\r\\n292,6.64,118,70,0,106,89,Bad,39,17,Yes,No\\r\\n293,11.82,113,66,16,322,74,Good,76,15,Yes,Yes\\r\\n294,11.28,123,84,0,74,89,Good,59,10,Yes,No\\r\\n295,12.66,148,76,3,126,99,Good,60,11,Yes,Yes\\r\\n296,4.21,118,35,14,502,137,Medium,79,10,No,Yes\\r\\n297,8.21,127,44,13,160,123,Good,63,18,Yes,Yes\\r\\n298,3.07,118,83,13,276,104,Bad,75,10,Yes,Yes\\r\\n299,10.98,148,63,0,312,130,Good,63,15,Yes,No\\r\\n300,9.4,135,40,17,497,96,Medium,54,17,No,Yes\\r\\n301,8.57,116,78,1,158,99,Medium,45,11,Yes,Yes\\r\\n302,7.41,99,93,0,198,87,Medium,57,16,Yes,Yes\\r\\n303,5.28,108,77,13,388,110,Bad,74,14,Yes,Yes\\r\\n304,10.01,133,52,16,290,99,Medium,43,11,Yes,Yes\\r\\n305,11.93,123,98,12,408,134,Good,29,10,Yes,Yes\\r\\n306,8.03,115,29,26,394,132,Medium,33,13,Yes,Yes\\r\\n307,4.78,131,32,1,85,133,Medium,48,12,Yes,Yes\\r\\n308,5.9,138,92,0,13,120,Bad,61,12,Yes,No\\r\\n309,9.24,126,80,19,436,126,Medium,52,10,Yes,Yes\\r\\n310,11.18,131,111,13,33,80,Bad,68,18,Yes,Yes\\r\\n311,9.53,175,65,29,419,166,Medium,53,12,Yes,Yes\\r\\n312,6.15,146,68,12,328,132,Bad,51,14,Yes,Yes\\r\\n313,6.8,137,117,5,337,135,Bad,38,10,Yes,Yes\\r\\n314,9.33,103,81,3,491,54,Medium,66,13,Yes,No\\r\\n315,7.72,133,33,10,333,129,Good,71,14,Yes,Yes\\r\\n316,6.39,131,21,8,220,171,Good,29,14,Yes,Yes\\r\\n317,15.63,122,36,5,369,72,Good,35,10,Yes,Yes\\r\\n318,6.41,142,30,0,472,136,Good,80,15,No,No\\r\\n319,10.08,116,72,10,456,130,Good,41,14,No,Yes\\r\\n320,6.97,127,45,19,459,129,Medium,57,11,No,Yes\\r\\n321,5.86,136,70,12,171,152,Medium,44,18,Yes,Yes\\r\\n322,7.52,123,39,5,499,98,Medium,34,15,Yes,No\\r\\n323,9.16,140,50,10,300,139,Good,60,15,Yes,Yes\\r\\n324,10.36,107,105,18,428,103,Medium,34,12,Yes,Yes\\r\\n325,2.66,136,65,4,133,150,Bad,53,13,Yes,Yes\\r\\n326,11.7,144,69,11,131,104,Medium,47,11,Yes,Yes\\r\\n327,4.69,133,30,0,152,122,Medium,53,17,Yes,No\\r\\n328,6.23,112,38,17,316,104,Medium,80,16,Yes,Yes\\r\\n329,3.15,117,66,1,65,111,Bad,55,11,Yes,Yes\\r\\n330,11.27,100,54,9,433,89,Good,45,12,Yes,Yes\\r\\n331,4.99,122,59,0,501,112,Bad,32,14,No,No\\r\\n332,10.1,135,63,15,213,134,Medium,32,10,Yes,Yes\\r\\n333,5.74,106,33,20,354,104,Medium,61,12,Yes,Yes\\r\\n334,5.87,136,60,7,303,147,Medium,41,10,Yes,Yes\\r\\n335,7.63,93,117,9,489,83,Bad,42,13,Yes,Yes\\r\\n336,6.18,120,70,15,464,110,Medium,72,15,Yes,Yes\\r\\n337,5.17,138,35,6,60,143,Bad,28,18,Yes,No\\r\\n338,8.61,130,38,0,283,102,Medium,80,15,Yes,No\\r\\n339,5.97,112,24,0,164,101,Medium,45,11,Yes,No\\r\\n340,11.54,134,44,4,219,126,Good,44,15,Yes,Yes\\r\\n341,7.5,140,29,0,105,91,Bad,43,16,Yes,No\\r\\n342,7.38,98,120,0,268,93,Medium,72,10,No,No\\r\\n343,7.81,137,102,13,422,118,Medium,71,10,No,Yes\\r\\n344,5.99,117,42,10,371,121,Bad,26,14,Yes,Yes\\r\\n345,8.43,138,80,0,108,126,Good,70,13,No,Yes\\r\\n346,4.81,121,68,0,279,149,Good,79,12,Yes,No\\r\\n347,8.97,132,107,0,144,125,Medium,33,13,No,No\\r\\n348,6.88,96,39,0,161,112,Good,27,14,No,No\\r\\n349,12.57,132,102,20,459,107,Good,49,11,Yes,Yes\\r\\n350,9.32,134,27,18,467,96,Medium,49,14,No,Yes\\r\\n351,8.64,111,101,17,266,91,Medium,63,17,No,Yes\\r\\n352,10.44,124,115,16,458,105,Medium,62,16,No,Yes\\r\\n353,13.44,133,103,14,288,122,Good,61,17,Yes,Yes\\r\\n354,9.45,107,67,12,430,92,Medium,35,12,No,Yes\\r\\n355,5.3,133,31,1,80,145,Medium,42,18,Yes,Yes\\r\\n356,7.02,130,100,0,306,146,Good,42,11,Yes,No\\r\\n357,3.58,142,109,0,111,164,Good,72,12,Yes,No\\r\\n358,13.36,103,73,3,276,72,Medium,34,15,Yes,Yes\\r\\n359,4.17,123,96,10,71,118,Bad,69,11,Yes,Yes\\r\\n360,3.13,130,62,11,396,130,Bad,66,14,Yes,Yes\\r\\n361,8.77,118,86,7,265,114,Good,52,15,No,Yes\\r\\n362,8.68,131,25,10,183,104,Medium,56,15,No,Yes\\r\\n363,5.25,131,55,0,26,110,Bad,79,12,Yes,Yes\\r\\n364,10.26,111,75,1,377,108,Good,25,12,Yes,No\\r\\n365,10.5,122,21,16,488,131,Good,30,14,Yes,Yes\\r\\n366,6.53,154,30,0,122,162,Medium,57,17,No,No\\r\\n367,5.98,124,56,11,447,134,Medium,53,12,No,Yes\\r\\n368,14.37,95,106,0,256,53,Good,52,17,Yes,No\\r\\n369,10.71,109,22,10,348,79,Good,74,14,No,Yes\\r\\n370,10.26,135,100,22,463,122,Medium,36,14,Yes,Yes\\r\\n371,7.68,126,41,22,403,119,Bad,42,12,Yes,Yes\\r\\n372,9.08,152,81,0,191,126,Medium,54,16,Yes,No\\r\\n373,7.8,121,50,0,508,98,Medium,65,11,No,No\\r\\n374,5.58,137,71,0,402,116,Medium,78,17,Yes,No\\r\\n375,9.44,131,47,7,90,118,Medium,47,12,Yes,Yes\\r\\n376,7.9,132,46,4,206,124,Medium,73,11,Yes,No\\r\\n377,16.27,141,60,19,319,92,Good,44,11,Yes,Yes\\r\\n378,6.81,132,61,0,263,125,Medium,41,12,No,No\\r\\n379,6.11,133,88,3,105,119,Medium,79,12,Yes,Yes\\r\\n380,5.81,125,111,0,404,107,Bad,54,15,Yes,No\\r\\n381,9.64,106,64,10,17,89,Medium,68,17,Yes,Yes\\r\\n382,3.9,124,65,21,496,151,Bad,77,13,Yes,Yes\\r\\n383,4.95,121,28,19,315,121,Medium,66,14,Yes,Yes\\r\\n384,9.35,98,117,0,76,68,Medium,63,10,Yes,No\\r\\n385,12.85,123,37,15,348,112,Good,28,12,Yes,Yes\\r\\n386,5.87,131,73,13,455,132,Medium,62,17,Yes,Yes\\r\\n387,5.32,152,116,0,170,160,Medium,39,16,Yes,No\\r\\n388,8.67,142,73,14,238,115,Medium,73,14,No,Yes\\r\\n389,8.14,135,89,11,245,78,Bad,79,16,Yes,Yes\\r\\n390,8.44,128,42,8,328,107,Medium,35,12,Yes,Yes\\r\\n391,5.47,108,75,9,61,111,Medium,67,12,Yes,Yes\\r\\n392,6.1,153,63,0,49,124,Bad,56,16,Yes,No\\r\\n393,4.53,129,42,13,315,130,Bad,34,13,Yes,Yes\\r\\n394,5.57,109,51,10,26,120,Medium,30,17,No,Yes\\r\\n395,5.35,130,58,19,366,139,Bad,33,16,Yes,Yes\\r\\n396,12.57,138,108,17,203,128,Good,33,14,Yes,Yes\\r\\n397,6.14,139,23,3,37,120,Medium,55,11,No,Yes\\r\\n398,7.41,162,26,12,368,159,Medium,40,18,Yes,Yes\\r\\n399,5.94,100,79,7,284,95,Bad,50,12,Yes,Yes\\r\\n400,9.71,134,37,0,27,120,Good,49,16,Yes,Yes\\r\\n'}"
            ]
          },
          "metadata": {
            "tags": []
          },
          "execution_count": 2
        }
      ]
    },
    {
      "metadata": {
        "id": "hrOxwq7umiYI",
        "colab_type": "code",
        "colab": {}
      },
      "cell_type": "code",
      "source": [
        "Carseats = pd.read_csv('Carseats.csv', header='infer', index_col='Column1')"
      ],
      "execution_count": 0,
      "outputs": []
    },
    {
      "metadata": {
        "id": "4FDSV1VCmiYM",
        "colab_type": "code",
        "colab": {}
      },
      "cell_type": "code",
      "source": [
        "Carseats['High'] = np.where(Carseats['Sales'] <= 8, 0,1)"
      ],
      "execution_count": 0,
      "outputs": []
    },
    {
      "metadata": {
        "id": "q9kOT94_miYO",
        "colab_type": "code",
        "colab": {}
      },
      "cell_type": "code",
      "source": [
        "y = Carseats.High\n",
        "x = Carseats.drop(['High'], axis=1)"
      ],
      "execution_count": 0,
      "outputs": []
    },
    {
      "metadata": {
        "id": "rKpiUz0vmiYU",
        "colab_type": "code",
        "outputId": "c9a915e7-13a2-45ef-f6d4-f1cb16bf7a28",
        "colab": {
          "base_uri": "https://localhost:8080/",
          "height": 70
        }
      },
      "cell_type": "code",
      "source": [
        "x['Urban_new'] = np.where(x['Urban'] == 'Yes',1,0)\n",
        "x.US_new = np.where(x['US'] == 'Yes',1,0)\n",
        "x.loc[x.ShelveLoc == 'Bad', 'ShelveLoc_new'] = 0\n",
        "x.loc[x.ShelveLoc == 'Medium', 'ShelveLoc_new'] = 1\n",
        "x.loc[x.ShelveLoc == 'Good', 'ShelveLoc_new'] = 2"
      ],
      "execution_count": 0,
      "outputs": [
        {
          "output_type": "stream",
          "text": [
            "/usr/local/lib/python3.6/dist-packages/ipykernel_launcher.py:2: UserWarning: Pandas doesn't allow columns to be created via a new attribute name - see https://pandas.pydata.org/pandas-docs/stable/indexing.html#attribute-access\n",
            "  \n"
          ],
          "name": "stderr"
        }
      ]
    },
    {
      "metadata": {
        "id": "xAuPAG66miYb",
        "colab_type": "code",
        "colab": {}
      },
      "cell_type": "code",
      "source": [
        "from sklearn import tree"
      ],
      "execution_count": 0,
      "outputs": []
    },
    {
      "metadata": {
        "id": "HzdU4asumiYe",
        "colab_type": "code",
        "colab": {}
      },
      "cell_type": "code",
      "source": [
        "x = x.drop(['ShelveLoc','Urban','US'], axis=1)"
      ],
      "execution_count": 0,
      "outputs": []
    },
    {
      "metadata": {
        "id": "3-JinwODmiYh",
        "colab_type": "code",
        "outputId": "d69efcac-8751-4817-809c-eb6f2833b9c3",
        "colab": {
          "base_uri": "https://localhost:8080/",
          "height": 118
        }
      },
      "cell_type": "code",
      "source": [
        "clf = tree.DecisionTreeClassifier(criterion='entropy')\n",
        "clf.fit(x,y)"
      ],
      "execution_count": 0,
      "outputs": [
        {
          "output_type": "execute_result",
          "data": {
            "text/plain": [
              "DecisionTreeClassifier(class_weight=None, criterion='entropy', max_depth=None,\n",
              "            max_features=None, max_leaf_nodes=None,\n",
              "            min_impurity_decrease=0.0, min_impurity_split=None,\n",
              "            min_samples_leaf=1, min_samples_split=2,\n",
              "            min_weight_fraction_leaf=0.0, presort=False, random_state=None,\n",
              "            splitter='best')"
            ]
          },
          "metadata": {
            "tags": []
          },
          "execution_count": 9
        }
      ]
    },
    {
      "metadata": {
        "id": "NQj9GDg0miYl",
        "colab_type": "code",
        "colab": {}
      },
      "cell_type": "code",
      "source": [
        "import graphviz"
      ],
      "execution_count": 0,
      "outputs": []
    },
    {
      "metadata": {
        "id": "PFE0_fpimiYq",
        "colab_type": "code",
        "outputId": "493f5823-0fb9-4ee2-d719-beddf48776c2",
        "colab": {
          "base_uri": "https://localhost:8080/",
          "height": 232
        }
      },
      "cell_type": "code",
      "source": [
        "from sklearn.externals.six import StringIO  \n",
        "from IPython.display import Image  \n",
        "from sklearn.tree import export_graphviz\n",
        "import pydotplus\n",
        "dot_data = StringIO()\n",
        "export_graphviz(clf, out_file=dot_data,  \n",
        "                filled=True, rounded=True,\n",
        "                special_characters=True)\n",
        "graph = pydotplus.graph_from_dot_data(dot_data.getvalue())  \n",
        "Image(graph.create_png())"
      ],
      "execution_count": 0,
      "outputs": [
        {
          "output_type": "execute_result",
          "data": {
            "image/png": "[encoded data removed]",
            "text/plain": [
              "<IPython.core.display.Image object>"
            ]
          },
          "metadata": {
            "tags": []
          },
          "execution_count": 11
        }
      ]
    },
    {
      "metadata": {
        "id": "YfUA41yzEqgg",
        "colab_type": "code",
        "outputId": "7eb7aad6-8bf6-46f3-e179-b4baaa38e556",
        "colab": {
          "base_uri": "https://localhost:8080/",
          "height": 50
        }
      },
      "cell_type": "code",
      "source": [
        "from sklearn.metrics import confusion_matrix\n",
        "confusion_matrix(y, clf.predict(x))"
      ],
      "execution_count": 0,
      "outputs": [
        {
          "output_type": "execute_result",
          "data": {
            "text/plain": [
              "array([[236,   0],\n",
              "       [  0, 164]])"
            ]
          },
          "metadata": {
            "tags": []
          },
          "execution_count": 17
        }
      ]
    },
    {
      "metadata": {
        "id": "F5eaV440Ihah",
        "colab_type": "code",
        "colab": {}
      },
      "cell_type": "code",
      "source": [
        ""
      ],
      "execution_count": 0,
      "outputs": []
    }
  ]
}